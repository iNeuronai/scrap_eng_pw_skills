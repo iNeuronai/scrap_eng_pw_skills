{
 "cells": [
  {
   "cell_type": "code",
   "execution_count": 1,
   "id": "c7ab4392-95b7-42b5-8f8e-41ea11b163c0",
   "metadata": {},
   "outputs": [],
   "source": [
    "import mysql.connector\n",
    "from mysql.connector import Error\n",
    "import pandas as pd"
   ]
  },
  {
   "cell_type": "code",
   "execution_count": 14,
   "id": "c56da3f6-83e4-4e1f-948f-d930c997d4fc",
   "metadata": {},
   "outputs": [
    {
     "name": "stdout",
     "output_type": "stream",
     "text": [
      "MySQL database connection successfull!\n"
     ]
    }
   ],
   "source": [
    "def create_server_conn(host_name, username, user_pw):\n",
    "    connection = None\n",
    "    try:\n",
    "        connection = mysql.connector.connect(\n",
    "            host = host_name,\n",
    "            user = username,\n",
    "            password = user_pw\n",
    "        )\n",
    "        print('MySQL database connection successfull!')\n",
    "    except Error as err:\n",
    "        print(f'Error: \"{err}\"')\n",
    "    return connection\n",
    "\n",
    "pw = 'sSaAlLiIkK7869'\n",
    "db = 'MySQL_Python'\n",
    "connection = create_server_conn('localhost', 'root', pw)"
   ]
  },
  {
   "cell_type": "code",
   "execution_count": 15,
   "id": "ebd18563-af9a-4227-b817-80c7099eb9fb",
   "metadata": {},
   "outputs": [
    {
     "name": "stdout",
     "output_type": "stream",
     "text": [
      "Error: \"1007 (HY000): Can't create database 'mysql_python'; database exists\"\n"
     ]
    }
   ],
   "source": [
    "# Create MySQL_Python Database\n",
    "\n",
    "def create_database(connection, query):\n",
    "    cursor = connection.cursor()\n",
    "    try:\n",
    "        cursor.execute(query)\n",
    "        print('Database created successfully!')\n",
    "    except Error as err:\n",
    "        print(f'Error: \"{err}\"')\n",
    "\n",
    "create_database_query = 'Create Database MySQL_Python'\n",
    "\n",
    "create_database(connection, create_database_query)"
   ]
  },
  {
   "cell_type": "code",
   "execution_count": 29,
   "id": "ec8d2025-e559-47fd-be81-8b79ab319c5b",
   "metadata": {},
   "outputs": [],
   "source": [
    "# Connect to database\n",
    "\n",
    "def create_db_connection(host_name, username, user_pw, database_name):\n",
    "    connection = None\n",
    "    try:\n",
    "        connection = mysql.connector.connect(\n",
    "            host = host_name,\n",
    "            user = username,\n",
    "            password = user_pw,\n",
    "            database = database_name\n",
    "        )\n",
    "        print('MySQL database connection successfull')\n",
    "    except Error as err:\n",
    "        print(f'Error: \"{err}\"')\n",
    "    return connection"
   ]
  },
  {
   "cell_type": "code",
   "execution_count": 26,
   "id": "1c4abca2-b985-4b1d-a74d-02a22be40c36",
   "metadata": {},
   "outputs": [],
   "source": [
    "# Execute SQL queries\n",
    "def execute_query(connection, query):\n",
    "    cursor = connection.cursor()\n",
    "    try:\n",
    "        cursor.execute(query)\n",
    "        connection.commit()\n",
    "        print('Query was successful')\n",
    "    except Error as err:\n",
    "        print(f'Error: {err}')"
   ]
  },
  {
   "cell_type": "code",
   "execution_count": 31,
   "id": "a3db5600-13ba-404e-b16c-e43704f3d96b",
   "metadata": {},
   "outputs": [
    {
     "name": "stdout",
     "output_type": "stream",
     "text": [
      "MySQL database connection successfull\n",
      "Query was successful\n"
     ]
    }
   ],
   "source": [
    "create_orders_table = \"\"\"\n",
    "create table orders (\n",
    "Order_ID int primary key,\n",
    "Customer_Name varchar(50) not null,\n",
    "Product_Name varchar(50) not null,\n",
    "Date_ordered date,\n",
    "Quantity int,\n",
    "Unit_price float,\n",
    "Phone_no varchar(20)\n",
    ");\n",
    "\"\"\"\n",
    "\n",
    "# Connect to database\n",
    "connection = create_db_connection('localhost', 'root', pw, db)\n",
    "execute_query(connection, create_orders_table)"
   ]
  },
  {
   "cell_type": "code",
   "execution_count": 33,
   "id": "bdb6ba80-7f05-4074-87dd-5ee2ed9d03d9",
   "metadata": {},
   "outputs": [
    {
     "name": "stdout",
     "output_type": "stream",
     "text": [
      "MySQL database connection successfull\n",
      "Query was successful\n"
     ]
    }
   ],
   "source": [
    "# Insert Data\n",
    "\n",
    "data_orders = \"\"\"\n",
    "insert into orders values\n",
    "(101, 'Steve', 'Laptop', '2018-06-12', 2, 800, 6293730802),\n",
    "(102, 'Sarah', 'Tablet', '2019-03-25', 3, 600, 7284910021),\n",
    "(103, 'David', 'Smartphone', '2020-08-10', 1, 1000, 5248763098),\n",
    "(104, 'Emily', 'Desktop', '2017-12-05', 2, 1200, 4157289640),\n",
    "(105, 'Amit', 'Laptop', '2021-02-15', 4, 900, 3628150497),\n",
    "(106, 'Neha', 'Tablet', '2018-09-30', 3, 650, 9267103845);\n",
    "\"\"\"\n",
    "\n",
    "connection = create_db_connection('localhost', 'root', pw, db)\n",
    "execute_query(connection, data_orders)"
   ]
  },
  {
   "cell_type": "code",
   "execution_count": 34,
   "id": "910c5df4-d875-4c8d-8367-59be07de73e5",
   "metadata": {},
   "outputs": [],
   "source": [
    "def read_query(connection, query):\n",
    "    cursor = connection.cursor()\n",
    "    result = None\n",
    "    try:\n",
    "        cursor.execute(query)\n",
    "        result = cursor.fetchall()\n",
    "        return result\n",
    "    except Error as err:\n",
    "        print(f'Error: \"{err}\"')"
   ]
  },
  {
   "cell_type": "code",
   "execution_count": 41,
   "id": "a7c206f3-cb17-4df6-8715-1182b734951a",
   "metadata": {},
   "outputs": [
    {
     "name": "stdout",
     "output_type": "stream",
     "text": [
      "MySQL database connection successfull\n",
      "(101, 'Steve', 'Laptop', datetime.date(2018, 6, 12), 2, 800.0, '6293730802')\n",
      "(102, 'Sarah', 'Tablet', datetime.date(2019, 3, 25), 3, 600.0, '7284910021')\n",
      "(103, 'David', 'Smartphone', datetime.date(2020, 8, 10), 1, 1000.0, '5248763098')\n",
      "(104, 'Emily', 'Desktop', datetime.date(2017, 12, 5), 2, 1200.0, '4157289640')\n",
      "(105, 'Amit', 'Laptop', datetime.date(2021, 2, 15), 4, 900.0, '3628150497')\n",
      "(106, 'Neha', 'Tablet', datetime.date(2018, 9, 30), 3, 650.0, '9267103845')\n"
     ]
    }
   ],
   "source": [
    "# Using select statement\n",
    "q1 = '''\n",
    "select * from orders;\n",
    "'''\n",
    "connection = create_db_connection('localhost', 'root', pw, db)\n",
    "results = read_query(connection, q1)\n",
    "for result in results:\n",
    "    print(result)"
   ]
  },
  {
   "cell_type": "code",
   "execution_count": 36,
   "id": "0de11d58-44c6-478a-9490-669ef1c78533",
   "metadata": {},
   "outputs": [
    {
     "name": "stdout",
     "output_type": "stream",
     "text": [
      "MySQL database connection successfull\n",
      "('Steve', '6293730802')\n",
      "('Sarah', '7284910021')\n",
      "('David', '5248763098')\n",
      "('Emily', '4157289640')\n",
      "('Amit', '3628150497')\n",
      "('Neha', '9267103845')\n"
     ]
    }
   ],
   "source": [
    "q2 = '''\n",
    "select customer_name, Phone_no from orders;\n",
    "'''\n",
    "connection = create_db_connection('localhost', 'root', pw, db)\n",
    "results = read_query(connection, q2)\n",
    "for result in results:\n",
    "    print(result)"
   ]
  },
  {
   "cell_type": "code",
   "execution_count": 38,
   "id": "c18f4546-0cab-4d0e-938b-7e7a89fa8bf1",
   "metadata": {},
   "outputs": [
    {
     "name": "stdout",
     "output_type": "stream",
     "text": [
      "MySQL database connection successfull\n",
      "(2018,)\n",
      "(2019,)\n",
      "(2020,)\n",
      "(2017,)\n",
      "(2021,)\n",
      "(2018,)\n"
     ]
    }
   ],
   "source": [
    "q3 = '''\n",
    "select year(date_ordered) from orders;\n",
    "'''\n",
    "connection = create_db_connection('localhost', 'root', pw, db)\n",
    "results = read_query(connection, q3)\n",
    "for result in results:\n",
    "    print(result)"
   ]
  },
  {
   "cell_type": "code",
   "execution_count": 39,
   "id": "6317936c-961c-4fcf-9e0d-264a29dc8cf3",
   "metadata": {},
   "outputs": [
    {
     "name": "stdout",
     "output_type": "stream",
     "text": [
      "MySQL database connection successfull\n",
      "(2018,)\n",
      "(2019,)\n",
      "(2020,)\n",
      "(2017,)\n",
      "(2021,)\n"
     ]
    }
   ],
   "source": [
    "q4 = '''\n",
    "select distinct year(date_ordered) from orders;\n",
    "'''\n",
    "connection = create_db_connection('localhost', 'root', pw, db)\n",
    "results = read_query(connection, q4)\n",
    "for result in results:\n",
    "    print(result)"
   ]
  },
  {
   "cell_type": "code",
   "execution_count": 43,
   "id": "0417fe83-ec39-4bf4-a981-e7235d037949",
   "metadata": {},
   "outputs": [
    {
     "name": "stdout",
     "output_type": "stream",
     "text": [
      "MySQL database connection successfull\n",
      "(101, 'Steve', 'Laptop', datetime.date(2018, 6, 12), 2, 800.0, '6293730802')\n",
      "(102, 'Sarah', 'Tablet', datetime.date(2019, 3, 25), 3, 600.0, '7284910021')\n",
      "(103, 'David', 'Smartphone', datetime.date(2020, 8, 10), 1, 1000.0, '5248763098')\n",
      "(104, 'Emily', 'Desktop', datetime.date(2017, 12, 5), 2, 1200.0, '4157289640')\n",
      "(105, 'Amit', 'Laptop', datetime.date(2021, 2, 15), 4, 900.0, '3628150497')\n",
      "(106, 'Neha', 'Tablet', datetime.date(2018, 9, 30), 3, 650.0, '9267103845')\n"
     ]
    }
   ],
   "source": [
    "# Using select statement\n",
    "q1 = '''\n",
    "select * from orders;\n",
    "'''\n",
    "connection = create_db_connection('localhost', 'root', pw, db)\n",
    "results = read_query(connection, q1)\n",
    "for result in results:\n",
    "    print(result)"
   ]
  },
  {
   "cell_type": "code",
   "execution_count": 46,
   "id": "09f2cc93-487a-46e9-a75d-cc7ce7e168cb",
   "metadata": {},
   "outputs": [
    {
     "data": {
      "text/html": [
       "<div>\n",
       "<style scoped>\n",
       "    .dataframe tbody tr th:only-of-type {\n",
       "        vertical-align: middle;\n",
       "    }\n",
       "\n",
       "    .dataframe tbody tr th {\n",
       "        vertical-align: top;\n",
       "    }\n",
       "\n",
       "    .dataframe thead th {\n",
       "        text-align: right;\n",
       "    }\n",
       "</style>\n",
       "<table border=\"1\" class=\"dataframe\">\n",
       "  <thead>\n",
       "    <tr style=\"text-align: right;\">\n",
       "      <th></th>\n",
       "      <th>order_id</th>\n",
       "      <th>customer_name</th>\n",
       "      <th>product_name</th>\n",
       "      <th>date_ordered</th>\n",
       "      <th>quantity</th>\n",
       "      <th>unit_price</th>\n",
       "      <th>phone_no</th>\n",
       "    </tr>\n",
       "  </thead>\n",
       "  <tbody>\n",
       "    <tr>\n",
       "      <th>0</th>\n",
       "      <td>101</td>\n",
       "      <td>Steve</td>\n",
       "      <td>Laptop</td>\n",
       "      <td>2018-06-12</td>\n",
       "      <td>2</td>\n",
       "      <td>800.0</td>\n",
       "      <td>6293730802</td>\n",
       "    </tr>\n",
       "    <tr>\n",
       "      <th>1</th>\n",
       "      <td>102</td>\n",
       "      <td>Sarah</td>\n",
       "      <td>Tablet</td>\n",
       "      <td>2019-03-25</td>\n",
       "      <td>3</td>\n",
       "      <td>600.0</td>\n",
       "      <td>7284910021</td>\n",
       "    </tr>\n",
       "    <tr>\n",
       "      <th>2</th>\n",
       "      <td>103</td>\n",
       "      <td>David</td>\n",
       "      <td>Smartphone</td>\n",
       "      <td>2020-08-10</td>\n",
       "      <td>1</td>\n",
       "      <td>1000.0</td>\n",
       "      <td>5248763098</td>\n",
       "    </tr>\n",
       "    <tr>\n",
       "      <th>3</th>\n",
       "      <td>104</td>\n",
       "      <td>Emily</td>\n",
       "      <td>Desktop</td>\n",
       "      <td>2017-12-05</td>\n",
       "      <td>2</td>\n",
       "      <td>1200.0</td>\n",
       "      <td>4157289640</td>\n",
       "    </tr>\n",
       "    <tr>\n",
       "      <th>4</th>\n",
       "      <td>105</td>\n",
       "      <td>Amit</td>\n",
       "      <td>Laptop</td>\n",
       "      <td>2021-02-15</td>\n",
       "      <td>4</td>\n",
       "      <td>900.0</td>\n",
       "      <td>3628150497</td>\n",
       "    </tr>\n",
       "    <tr>\n",
       "      <th>5</th>\n",
       "      <td>106</td>\n",
       "      <td>Neha</td>\n",
       "      <td>Tablet</td>\n",
       "      <td>2018-09-30</td>\n",
       "      <td>3</td>\n",
       "      <td>650.0</td>\n",
       "      <td>9267103845</td>\n",
       "    </tr>\n",
       "  </tbody>\n",
       "</table>\n",
       "</div>"
      ],
      "text/plain": [
       "   order_id customer_name product_name date_ordered  quantity  unit_price  \\\n",
       "0       101         Steve       Laptop   2018-06-12         2       800.0   \n",
       "1       102         Sarah       Tablet   2019-03-25         3       600.0   \n",
       "2       103         David   Smartphone   2020-08-10         1      1000.0   \n",
       "3       104         Emily      Desktop   2017-12-05         2      1200.0   \n",
       "4       105          Amit       Laptop   2021-02-15         4       900.0   \n",
       "5       106          Neha       Tablet   2018-09-30         3       650.0   \n",
       "\n",
       "     phone_no  \n",
       "0  6293730802  \n",
       "1  7284910021  \n",
       "2  5248763098  \n",
       "3  4157289640  \n",
       "4  3628150497  \n",
       "5  9267103845  "
      ]
     },
     "metadata": {},
     "output_type": "display_data"
    }
   ],
   "source": [
    "from_db = []\n",
    "for result in results:\n",
    "    result = list(result)\n",
    "    from_db.append(result)\n",
    "columns = ['order_id', 'customer_name', 'product_name', 'date_ordered',\n",
    "          'quantity', 'unit_price', 'phone_no']\n",
    "df = pd.DataFrame(from_db, columns = columns)\n",
    "display(df)"
   ]
  },
  {
   "cell_type": "code",
   "execution_count": 48,
   "id": "986cfa27-a3ce-473d-be14-fb4d1ec6c583",
   "metadata": {},
   "outputs": [
    {
     "name": "stdout",
     "output_type": "stream",
     "text": [
      "MySQL database connection successfull\n",
      "Query was successful\n"
     ]
    }
   ],
   "source": [
    "# Update Command\n",
    "update = '''\n",
    "update orders\n",
    "set unit_price = 1100\n",
    "where order_id = 104;\n",
    "'''\n",
    "connection = create_db_connection('localhost', 'root', pw, db)\n",
    "execute_query(connection, update)"
   ]
  },
  {
   "cell_type": "code",
   "execution_count": 49,
   "id": "9cb9f112-19a9-4ed1-9073-ad56658fc40d",
   "metadata": {},
   "outputs": [
    {
     "name": "stdout",
     "output_type": "stream",
     "text": [
      "MySQL database connection successfull\n",
      "(101, 'Steve', 'Laptop', datetime.date(2018, 6, 12), 2, 800.0, '6293730802')\n",
      "(102, 'Sarah', 'Tablet', datetime.date(2019, 3, 25), 3, 600.0, '7284910021')\n",
      "(103, 'David', 'Smartphone', datetime.date(2020, 8, 10), 1, 1000.0, '5248763098')\n",
      "(104, 'Emily', 'Desktop', datetime.date(2017, 12, 5), 2, 1100.0, '4157289640')\n",
      "(105, 'Amit', 'Laptop', datetime.date(2021, 2, 15), 4, 900.0, '3628150497')\n",
      "(106, 'Neha', 'Tablet', datetime.date(2018, 9, 30), 3, 650.0, '9267103845')\n"
     ]
    }
   ],
   "source": [
    "q1 = '''\n",
    "select * from orders;\n",
    "'''\n",
    "connection = create_db_connection('localhost', 'root', pw, db)\n",
    "results = read_query(connection, q1)\n",
    "for result in results:\n",
    "    print(result)"
   ]
  },
  {
   "cell_type": "code",
   "execution_count": 50,
   "id": "01be8849-1d7f-43d9-b824-814558c13475",
   "metadata": {},
   "outputs": [
    {
     "name": "stdout",
     "output_type": "stream",
     "text": [
      "MySQL database connection successfull\n",
      "Query was successful\n"
     ]
    }
   ],
   "source": [
    "# Delete command\n",
    "delete = '''\n",
    "delete from orders\n",
    "where order_id = 105;\n",
    "'''\n",
    "\n",
    "connection = create_db_connection('localhost', 'root', pw, db)\n",
    "execute_query(connection, delete)"
   ]
  },
  {
   "cell_type": "code",
   "execution_count": 51,
   "id": "70c7563d-1e8b-4fbd-982b-a9c49b8fab88",
   "metadata": {},
   "outputs": [
    {
     "name": "stdout",
     "output_type": "stream",
     "text": [
      "MySQL database connection successfull\n",
      "(101, 'Steve', 'Laptop', datetime.date(2018, 6, 12), 2, 800.0, '6293730802')\n",
      "(102, 'Sarah', 'Tablet', datetime.date(2019, 3, 25), 3, 600.0, '7284910021')\n",
      "(103, 'David', 'Smartphone', datetime.date(2020, 8, 10), 1, 1000.0, '5248763098')\n",
      "(104, 'Emily', 'Desktop', datetime.date(2017, 12, 5), 2, 1100.0, '4157289640')\n",
      "(106, 'Neha', 'Tablet', datetime.date(2018, 9, 30), 3, 650.0, '9267103845')\n"
     ]
    }
   ],
   "source": [
    "q1 = '''\n",
    "select * from orders;\n",
    "'''\n",
    "connection = create_db_connection('localhost', 'root', pw, db)\n",
    "results = read_query(connection, q1)\n",
    "for result in results:\n",
    "    print(result)"
   ]
  },
  {
   "cell_type": "code",
   "execution_count": null,
   "id": "fed3a31f-a935-4123-97fa-05245289f044",
   "metadata": {},
   "outputs": [],
   "source": []
  }
 ],
 "metadata": {
  "kernelspec": {
   "display_name": "Python 3 (ipykernel)",
   "language": "python",
   "name": "python3"
  },
  "language_info": {
   "codemirror_mode": {
    "name": "ipython",
    "version": 3
   },
   "file_extension": ".py",
   "mimetype": "text/x-python",
   "name": "python",
   "nbconvert_exporter": "python",
   "pygments_lexer": "ipython3",
   "version": "3.11.4"
  }
 },
 "nbformat": 4,
 "nbformat_minor": 5
}
